{
 "cells": [
  {
   "cell_type": "code",
   "execution_count": 2,
   "id": "6be977e6-f1f4-4694-829b-5da6dd0b9610",
   "metadata": {},
   "outputs": [],
   "source": [
    "import sys\n",
    "\n",
    "import pandas as pd\n",
    "import os\n",
    "import numpy as np\n",
    "import matplotlib.pyplot as plt\n",
    "import dask.dataframe as dd\n",
    "\n",
    "import string\n",
    "import itertools\n",
    "\n",
    "import processHist\n",
    "import utils\n",
    "import processZephyr\n",
    "\n",
    "ctry = 'GB'\n",
    "\n",
    "fd_base = '' # replace with your dir\n",
    "bvd_fd = fd_base + 'bvd/'\n",
    "sub_fd = fd_base + 'bvd_sub/'\n",
    "header_fd = fd_base + 'bvd_header/'\n",
    "bvd_proc_fd = fd_base + 'bvd_qualified/'\n",
    "ind_fd = fd_base + 'bvd_full_header/'\n",
    "output_fd = 'output/'\n",
    "hist_fd = fd_base + 'bvd_hist_2020_06/'\n",
    "fin_hist_fd = hist_fd +  'Financials/'\n",
    "des_hist_fd = hist_fd + 'Descriptive/'\n",
    "own_hist_fd = hist_fd + 'Ownership/'\n",
    "zephyr_fd = fd_base + 'Zephyr/'"
   ]
  },
  {
   "cell_type": "markdown",
   "id": "0dd49641-da70-44bb-8e04-ac748d19ce64",
   "metadata": {},
   "source": [
    "# Preparation\n",
    "1. In the server, create a main folder, then create 3 folders inside, e.g.: \n",
    "    - bvd_hist_2020_06/\n",
    "        - Ownership/\n",
    "        - Financials/\n",
    "        - Descriptive/\n",
    "2. For Ownership, Copy Links_2007.rar - Links_2019.rar, Links_current.rar, and Entities.rar to /Ownership.\n",
    "3. Unzip all the files in Ownership. Rename Links_current.txt to Links_2020.txt. Put all rar files to Ownership/archived. Create a folder, e.g. Ownership/GB, for the target country.\n",
    "4. For Descriptive, copy all Legal_info.part*.rar and Industry_classification.part*.rar to the server /Descriptive. Unzip and put all rar files to Descriptive/archived.\n",
    "5. For Financials, copy all Industry-Global_financials_and_ratios-USD.part*.rar to /Financials. Unzip and put all rar files to Financials/archived."
   ]
  },
  {
   "cell_type": "markdown",
   "id": "16dfb971-ca59-4470-86c8-f3c6a9241a27",
   "metadata": {},
   "source": [
    "# Read historical financial data and extract the country\n",
    "This will create Financials/GB_fin_hist.csv, which contains all the data for that country."
   ]
  },
  {
   "cell_type": "code",
   "execution_count": null,
   "id": "e7088ae2-3bae-41f3-9b88-fa6e9227198f",
   "metadata": {},
   "outputs": [],
   "source": [
    "processHist.readHistFin(ctry)"
   ]
  },
  {
   "cell_type": "markdown",
   "id": "f25136c7-6ed3-46bb-ae09-c46facd0a95b",
   "metadata": {},
   "source": [
    "# Read historical header info\n",
    "This will create Descriptive/GB/GB_sup_header, which contains the essential header information for firms that are not included in WRDS."
   ]
  },
  {
   "cell_type": "code",
   "execution_count": null,
   "id": "240ce0b0-14d9-4c4f-9df8-e3ef271545b6",
   "metadata": {},
   "outputs": [],
   "source": [
    "processHist.readHistHeader(ctry)"
   ]
  },
  {
   "cell_type": "markdown",
   "id": "ab572441-2b8b-47d8-8269-ff85bd8d593a",
   "metadata": {},
   "source": [
    "# Merge historical financial with WRDS financial\n",
    "#### getMergedFinSet(ctry):\n",
    "1. Apply the filter df['empl']>=10) | (df['toas']>=1000000) | (df['opre']>=250000) to the historical data and find the list of firms.\n",
    "2. Apply the same filter to WRDS (2011-2020) and get the list of firms.\n",
    "3. Get the union set of both data and save it as Financials/GBfilter_1_merge_set.csv.\n",
    "4. For the historical data, extract the firms in the union set and save it as Financials/GB_fin_hist_filter1_rename.csv.\n",
    "5. Number of companies including (hist, hist after LF, hist after filter 1, wrds, wrds after LF, wrds after filter 1) at different stages are stored in output/GB_merge_wrds_hist_filter1.csv\n",
    "\n",
    "#### combineFin(ctry):\n",
    "5. For the WRDS data, extract the firms in the union set.\n",
    "6. Combine the extracted historical data and the WRDS data.\n",
    "7. Use ['bvdid', 'conscode', 'filing_type', 'closdate'] as a key to remove redundancy. Use the WRDS data if it is available since it is more updated.\n",
    "8. Save it as Financials/GB_filter1_merge.csv."
   ]
  },
  {
   "cell_type": "code",
   "execution_count": null,
   "id": "b8392589-7fda-436a-b921-3b1fbe3dd734",
   "metadata": {},
   "outputs": [],
   "source": [
    "processHist.getMergedFinSet(ctry)"
   ]
  },
  {
   "cell_type": "code",
   "execution_count": null,
   "id": "27b5bb02-dee1-41df-9e90-2b15c61116ac",
   "metadata": {},
   "outputs": [
    {
     "name": "stderr",
     "output_type": "stream",
     "text": [
      "/tmp/ipykernel_1779336/1526553785.py:1: DtypeWarning: Columns (7) have mixed types.Specify dtype option on import or set low_memory=False.\n",
      "  processHist.combineFin(ctry)\n"
     ]
    },
    {
     "name": "stdout",
     "output_type": "stream",
     "text": [
      "2008\n"
     ]
    },
    {
     "name": "stderr",
     "output_type": "stream",
     "text": [
      "/tmp/ipykernel_1779336/1526553785.py:1: DtypeWarning: Columns (12) have mixed types.Specify dtype option on import or set low_memory=False.\n",
      "  processHist.combineFin(ctry)\n"
     ]
    },
    {
     "name": "stdout",
     "output_type": "stream",
     "text": [
      "2009\n",
      "2010\n",
      "2011\n",
      "2012\n",
      "2013\n",
      "2014\n",
      "2015\n",
      "2016\n",
      "2017\n",
      "2018\n",
      "2019\n",
      "2020\n"
     ]
    },
    {
     "name": "stderr",
     "output_type": "stream",
     "text": [
      "/tmp/ipykernel_1779336/1526553785.py:1: DtypeWarning: Columns (11,12) have mixed types.Specify dtype option on import or set low_memory=False.\n",
      "  processHist.combineFin(ctry)\n"
     ]
    }
   ],
   "source": [
    "processHist.combineFin(ctry)"
   ]
  },
  {
   "cell_type": "markdown",
   "id": "2563b6eb-1c0c-41da-b95e-3b9f0336790c",
   "metadata": {},
   "source": [
    "#### consolidateFin(ctry)\n",
    "1. remove limited financials\n",
    "2. round date to the closest month start date so that nearby dates can cluster\n",
    "3. remove conscode duplicates for bvdid-closdate pairs, e.g. multiple U1\n",
    "4. for U1-U2 and C1-C2 duplicates, select the one with fewer nans\n",
    "5. remap U1/U2/C1/C2. If a company has only U or C, it will be U1/C1. Otherwise, it will be C2 and U2.\n",
    "6. remove U2 since we already have C2\n",
    "7. save the df to Financials/GB/GB_cons.csv"
   ]
  },
  {
   "cell_type": "code",
   "execution_count": null,
   "id": "7001e2a8-34ec-4b23-8c56-05a849eba01f",
   "metadata": {},
   "outputs": [
    {
     "name": "stderr",
     "output_type": "stream",
     "text": [
      "/tmp/ipykernel_1782877/1413070190.py:1: DtypeWarning: Columns (8) have mixed types.Specify dtype option on import or set low_memory=False.\n",
      "  processHist.consolidateFin(ctry)\n"
     ]
    },
    {
     "name": "stdout",
     "output_type": "stream",
     "text": [
      "Before merging unconsolidate and consolidate\n",
      "U1    12630018\n",
      "U2      533296\n",
      "C2      325907\n",
      "C1      201180\n",
      "Name: conscode, dtype: int64\n",
      "Removing conscode duplicates using number of nans\n",
      "U1    12566886\n",
      "U2      530880\n",
      "C2      324752\n",
      "C1      183565\n",
      "Name: conscode, dtype: int64\n",
      "Number of U1-U2 9093\n",
      "Number of C1-C2 19209\n",
      "Number of U1-U2 duplicates 9093\n",
      "Number of C1-C2 duplicates 19209\n",
      "U1    12561057\n",
      "U2      527616\n",
      "C2      308890\n",
      "C1      180218\n",
      "Name: conscode, dtype: int64\n",
      "Before remapping, number of single U2: 519638\n",
      "After remapping, number of single U2: 0\n",
      "U1    13076201\n",
      "C1      476636\n",
      "U2       12472\n",
      "C2       12472\n",
      "Name: conscode, dtype: int64\n"
     ]
    }
   ],
   "source": [
    "processHist.consolidateFin(ctry)"
   ]
  },
  {
   "cell_type": "code",
   "execution_count": null,
   "id": "cc053d35-a33e-47c4-afaf-d45ab45e5752",
   "metadata": {},
   "outputs": [
    {
     "name": "stderr",
     "output_type": "stream",
     "text": [
      "/tmp/ipykernel_1782877/2020650078.py:1: DtypeWarning: Columns (8) have mixed types.Specify dtype option on import or set low_memory=False.\n",
      "  processHist.chooseReportInYear(ctry)\n"
     ]
    }
   ],
   "source": [
    "processHist.chooseReportInYear(ctry)"
   ]
  },
  {
   "cell_type": "code",
   "execution_count": null,
   "id": "bbc2835e-6a6a-42d2-85f6-a486e50a7ab8",
   "metadata": {},
   "outputs": [
    {
     "name": "stderr",
     "output_type": "stream",
     "text": [
      "/tmp/ipykernel_1804745/3915028386.py:1: DtypeWarning: Columns (8) have mixed types.Specify dtype option on import or set low_memory=False.\n",
      "  processHist.expandReportYear(ctry, start_yr=1990)\n",
      "/nas/longleaf/home/yiluy/projects/BvDAnalysis/processHist.py:304: DtypeWarning: Columns (6,8,14,22,25,27,36) have mixed types.Specify dtype option on import or set low_memory=False.\n",
      "  df_header = readWRDSHeader(ctry)\n"
     ]
    },
    {
     "name": "stdout",
     "output_type": "stream",
     "text": [
      "Before expanding: 13474733\n"
     ]
    }
   ],
   "source": [
    "processHist.expandReportYear(ctry, start_yr=1990)"
   ]
  },
  {
   "cell_type": "markdown",
   "id": "1e9f8dc6-a4cf-47da-8125-2285cf26b36b",
   "metadata": {},
   "source": [
    "# Read historical industry information and merge it with WRDS (TODO)\n",
    "1. read industry info from WRDS (currently in bvd_full_header/GB_*.csv, *=l/m/s)\n",
    "2. read industry info from the historical data (Descriptive/Industry_classifications.txt) and extract the country\n",
    "3. get the remaining set from the historical data\n",
    "4. remove those that do not have industry info\n",
    "5. save as Descriptive/GB/GB_sup_industry.csv"
   ]
  },
  {
   "cell_type": "code",
   "execution_count": null,
   "id": "50fba0a1-a380-408f-8e48-56c29df2d5af",
   "metadata": {},
   "outputs": [],
   "source": [
    "### outdated - processHist.readIndustries(ctry)"
   ]
  },
  {
   "cell_type": "code",
   "execution_count": null,
   "id": "86536479-13fd-424b-b43f-1e3701117770",
   "metadata": {},
   "outputs": [],
   "source": [
    "# processHist.readIndustries(ctry, 'naics')"
   ]
  },
  {
   "cell_type": "code",
   "execution_count": null,
   "id": "092270ec-f10f-434d-85e4-1e5cd11923db",
   "metadata": {},
   "outputs": [],
   "source": [
    "# processHist.readIndustries(ctry, 'sic')"
   ]
  },
  {
   "cell_type": "code",
   "execution_count": 2,
   "id": "10d23440-27c1-4b0b-9f2b-2d2a4496e49d",
   "metadata": {},
   "outputs": [
    {
     "name": "stderr",
     "output_type": "stream",
     "text": [
      "/tmp/ipykernel_2718362/508598755.py:1: DtypeWarning: Columns (5,12,18,24) have mixed types.Specify dtype option on import or set low_memory=False.\n",
      "  processHist.readIndustries(ctry, 'uksic')\n"
     ]
    }
   ],
   "source": [
    "processHist.readIndustries(ctry, 'uksic')"
   ]
  },
  {
   "cell_type": "code",
   "execution_count": 8,
   "id": "77e35574-8b2a-4d2f-9fcc-f7282113ced7",
   "metadata": {},
   "outputs": [
    {
     "name": "stderr",
     "output_type": "stream",
     "text": [
      "/tmp/ipykernel_2718362/2435716040.py:1: DtypeWarning: Columns (8,105,107,109,113,115,117,119) have mixed types.Specify dtype option on import or set low_memory=False.\n",
      "  processHist.mergeIndustries(ctry)\n",
      "/nas/longleaf/rhel8/apps/anaconda/2021.11.ood/lib/python3.9/site-packages/pandas/core/frame.py:5039: SettingWithCopyWarning: \n",
      "A value is trying to be set on a copy of a slice from a DataFrame\n",
      "\n",
      "See the caveats in the documentation: https://pandas.pydata.org/pandas-docs/stable/user_guide/indexing.html#returning-a-view-versus-a-copy\n",
      "  return super().rename(\n"
     ]
    }
   ],
   "source": [
    "processHist.mergeIndustries(ctry)"
   ]
  },
  {
   "cell_type": "code",
   "execution_count": 3,
   "id": "ff2ad95c-9687-473a-b1a0-86a082ec4880",
   "metadata": {},
   "outputs": [],
   "source": [
    "processHist.getEntityIndustries(ctry)"
   ]
  },
  {
   "cell_type": "code",
   "execution_count": 10,
   "id": "b0ac2256-d49d-4e03-8cf5-9eac07d976d1",
   "metadata": {},
   "outputs": [],
   "source": [
    "processHist.findEntitiesGPLP()"
   ]
  },
  {
   "cell_type": "code",
   "execution_count": 11,
   "id": "9314e915-bc3f-4ae7-8f68-2ef5d28b91c7",
   "metadata": {},
   "outputs": [
    {
     "name": "stderr",
     "output_type": "stream",
     "text": [
      "/tmp/ipykernel_2718362/191264972.py:1: DtypeWarning: Columns (6,8,105,107,109,113,115,117,119,129,135,136) have mixed types.Specify dtype option on import or set low_memory=False.\n",
      "  processHist.getNanSICfromPanel()\n"
     ]
    }
   ],
   "source": [
    "processHist.getNanSICfromPanel()"
   ]
  },
  {
   "cell_type": "code",
   "execution_count": 12,
   "id": "e4fd2950-6563-4ea8-b7a3-3d32e3a68243",
   "metadata": {},
   "outputs": [
    {
     "name": "stderr",
     "output_type": "stream",
     "text": [
      "/tmp/ipykernel_2718362/1791768742.py:1: DtypeWarning: Columns (2) have mixed types.Specify dtype option on import or set low_memory=False.\n",
      "  processHist.pvNameMatch()\n",
      "/tmp/ipykernel_2718362/1791768742.py:1: DtypeWarning: Columns (3) have mixed types.Specify dtype option on import or set low_memory=False.\n",
      "  processHist.pvNameMatch()\n",
      "/nas/longleaf/home/yiluy/projects/BvDAnalysis/processHist.py:661: SettingWithCopyWarning: \n",
      "A value is trying to be set on a copy of a slice from a DataFrame.\n",
      "Try using .loc[row_indexer,col_indexer] = value instead\n",
      "\n",
      "See the caveats in the documentation: https://pandas.pydata.org/pandas-docs/stable/user_guide/indexing.html#returning-a-view-versus-a-copy\n",
      "  pv_2['name_len'] = pv_2['name_mod'].str.len()\n"
     ]
    },
    {
     "name": "stdout",
     "output_type": "stream",
     "text": [
      "0\n",
      "10\n",
      "20\n",
      "30\n",
      "40\n",
      "50\n",
      "60\n",
      "70\n",
      "80\n",
      "90\n",
      "0\n",
      "5000\n",
      "10000\n",
      "15000\n",
      "20000\n",
      "25000\n",
      "30000\n",
      "35000\n",
      "40000\n",
      "45000\n",
      "50000\n",
      "55000\n",
      "60000\n"
     ]
    },
    {
     "name": "stderr",
     "output_type": "stream",
     "text": [
      "/nas/longleaf/home/yiluy/projects/BvDAnalysis/processHist.py:707: SettingWithCopyWarning: \n",
      "A value is trying to be set on a copy of a slice from a DataFrame.\n",
      "Try using .loc[row_indexer,col_indexer] = value instead\n",
      "\n",
      "See the caveats in the documentation: https://pandas.pydata.org/pandas-docs/stable/user_guide/indexing.html#returning-a-view-versus-a-copy\n",
      "  pv_4['name_len'] = pv_4['name_mod'].str.len()\n"
     ]
    },
    {
     "name": "stdout",
     "output_type": "stream",
     "text": [
      "0\n",
      "10\n",
      "20\n",
      "30\n",
      "40\n",
      "50\n",
      "60\n",
      "70\n",
      "80\n",
      "90\n",
      "0\n",
      "5000\n",
      "10000\n",
      "15000\n",
      "20000\n",
      "25000\n",
      "30000\n",
      "35000\n",
      "40000\n",
      "45000\n",
      "50000\n",
      "55000\n",
      "60000\n",
      "65000\n",
      "70000\n",
      "75000\n"
     ]
    }
   ],
   "source": [
    "processHist.pvNameMatch()"
   ]
  },
  {
   "cell_type": "markdown",
   "id": "e2a303eb-db87-4cd2-8ced-33fb006ff588",
   "metadata": {},
   "source": [
    "# Read historical links"
   ]
  },
  {
   "cell_type": "markdown",
   "id": "da2aa2b6-a764-4292-b872-0ad819cb0d85",
   "metadata": {},
   "source": [
    "Note that the file Links_current.txt is renamed to Links_2020.txt\n",
    "\n",
    "#### readHistLinks(ctry):\n",
    "1. Loop through Links_*.txt and extract active links which have children firms in the target country, save them as Ownership/GB/GB_links_*.csv.\n",
    "2. For Links_2020.txt, extract archived links which have children firms in the target country, save it as Ownership/GB/GB_links_archived.csv."
   ]
  },
  {
   "cell_type": "code",
   "execution_count": null,
   "id": "b500be64-3d30-4a88-8060-09d2afaa81e1",
   "metadata": {},
   "outputs": [],
   "source": [
    "processHist.readHistLinks(ctry)"
   ]
  },
  {
   "cell_type": "markdown",
   "id": "22f9a204-52ae-4ee8-8fb4-6733914e0090",
   "metadata": {},
   "source": [
    "#### readHistEntities(ctry):\n",
    "\n",
    "3. Read Entities.txt and extract firms in the target country, save it as Ownership/GB/entities_GB.csv."
   ]
  },
  {
   "cell_type": "code",
   "execution_count": null,
   "id": "530953de-332c-4628-9dba-38a7fd8ae4d3",
   "metadata": {},
   "outputs": [],
   "source": [
    "processHist.readHistEntities(ctry)"
   ]
  },
  {
   "cell_type": "markdown",
   "id": "916a2e6c-cd48-4b50-8770-8960f56d00d1",
   "metadata": {},
   "source": [
    "#### readHistEPVY():\n",
    "Read Entities.txt and extract EPVY entities, save it as Ownership/entities_epvy.csv."
   ]
  },
  {
   "cell_type": "code",
   "execution_count": null,
   "id": "8b73f05a-e964-4577-b6e5-74d2111e42be",
   "metadata": {},
   "outputs": [],
   "source": [
    "processHist.readHistEPVY()"
   ]
  },
  {
   "cell_type": "code",
   "execution_count": null,
   "id": "bef00029-e5d7-407b-8e6c-cdf1497104b0",
   "metadata": {},
   "outputs": [
    {
     "name": "stderr",
     "output_type": "stream",
     "text": [
      "/tmp/ipykernel_3476714/3068699887.py:1: DtypeWarning: Columns (2) have mixed types.Specify dtype option on import or set low_memory=False.\n",
      "  processHist.modHistEPVY()\n"
     ]
    }
   ],
   "source": [
    "processHist.modHistEPVY()"
   ]
  },
  {
   "cell_type": "markdown",
   "id": "06cb6a46-bad7-41aa-956d-9f7283e7ff1a",
   "metadata": {},
   "source": [
    "#### splitHistLinks(ctry):\n",
    "\n",
    "4. Extract links with direct % > 50% and save those as Ownership/GB/GB_links_dir50_*.csv.\n",
    "    - (* can be 1999-2020 or archived)\n",
    "5. Extract links with DUO50C and save those as Ownership/GB/GB_links_duo50_*.csv .\n",
    "6. Extract links with shareholders in the group (E, P, V, Y) and save those as Ownership/GB/GB_links_inv_*.csv.\n",
    "    - E: Mutual & Pension Fund/Nominee/Trust/Trustee\n",
    "    - P: Private equity firms\n",
    "    - V: Venture capital\n",
    "    - Y: Hedge fund\n",
    "7. Extract subsidiaries with foreign GUO50 or GUO50C and save those as Ownership/GB/fg_uo_GB_*.csv.\n",
    "8. Extract subsidiaries with foreign GUO25 or GUO25C and save those as Ownership/GB/fg_uo_25_GB_*.csv"
   ]
  },
  {
   "cell_type": "code",
   "execution_count": null,
   "id": "c50bb874-f2cf-49ae-ac32-6eb4d5598846",
   "metadata": {},
   "outputs": [],
   "source": [
    "processHist.splitHistSpecialLinks(ctry)"
   ]
  },
  {
   "cell_type": "code",
   "execution_count": 3,
   "id": "d6ae3fe3-d335-4a3f-a377-9934484b4b23",
   "metadata": {},
   "outputs": [
    {
     "name": "stderr",
     "output_type": "stream",
     "text": [
      "/tmp/ipykernel_4121580/378976118.py:1: DtypeWarning: Columns (2,4) have mixed types.Specify dtype option on import or set low_memory=False.\n",
      "  processHist.splitHistLinks(ctry, dir50=False, duo50=False, inv=True)\n"
     ]
    },
    {
     "name": "stdout",
     "output_type": "stream",
     "text": [
      "2007\n"
     ]
    },
    {
     "name": "stderr",
     "output_type": "stream",
     "text": [
      "/tmp/ipykernel_4121580/378976118.py:1: DtypeWarning: Columns (4,6,14,15,16,17) have mixed types.Specify dtype option on import or set low_memory=False.\n",
      "  processHist.splitHistLinks(ctry, dir50=False, duo50=False, inv=True)\n"
     ]
    },
    {
     "name": "stdout",
     "output_type": "stream",
     "text": [
      "2008\n",
      "2009\n",
      "2010\n",
      "2011\n",
      "2012\n",
      "2013\n",
      "2014\n",
      "2015\n",
      "2016\n",
      "2017\n",
      "2018\n",
      "2019\n",
      "2020\n",
      "archived\n"
     ]
    },
    {
     "name": "stderr",
     "output_type": "stream",
     "text": [
      "/tmp/ipykernel_4121580/378976118.py:1: DtypeWarning: Columns (16,17) have mixed types.Specify dtype option on import or set low_memory=False.\n",
      "  processHist.splitHistLinks(ctry, dir50=False, duo50=False, inv=True)\n"
     ]
    }
   ],
   "source": [
    "processHist.splitHistLinks(ctry, dir50=True, duo50=True, inv=True)"
   ]
  },
  {
   "cell_type": "markdown",
   "id": "93e7538a-c345-4a92-b5ff-cb4f88b370e4",
   "metadata": {},
   "source": [
    "# Process historical links\n",
    "#### mergeHistLinks(ctry, link_type)\n",
    "1. Loop through all the years and the archived file for the link type, record all the subsidiary and shareholder pairs.\n",
    "2. Construct a dataframe using all the pairs as index, and set the first year and last year as the columns.\n",
    "3. Loop through all the years again, and update the first year and last year for the pair.\n",
    "    - If a link appears in year y, it means that it is active in that year so the last year is at least y.\n",
    "4. Do the same for the archived file.\n",
    "5. Save this file which contains the first year and the last year for all the pairs as Ownership/GB/GB_links_*_final.csv (* can be inv or dir50 or duo50)."
   ]
  },
  {
   "cell_type": "code",
   "execution_count": 4,
   "id": "063cb54a-2431-4fc4-9ed2-a05579516fa6",
   "metadata": {},
   "outputs": [
    {
     "name": "stdout",
     "output_type": "stream",
     "text": [
      "2007 99623\n",
      "2008 133198\n",
      "2009 159530\n",
      "2010 190570\n",
      "2011 236208\n",
      "2012 280155\n",
      "2013 319825\n",
      "2014 354602\n",
      "2015 390647\n",
      "2016 423858\n",
      "2017 458653\n",
      "2018 491068\n",
      "2019 516827\n",
      "2020 532808\n",
      "archived 629044\n",
      "2007\n",
      "2008\n",
      "2009\n",
      "2010\n",
      "2011\n",
      "2012\n",
      "2013\n",
      "2014\n",
      "2015\n",
      "2016\n",
      "2017\n",
      "2018\n",
      "2019\n",
      "2020\n"
     ]
    }
   ],
   "source": [
    "for link_type in ['inv', 'duo50', 'dir50']:\n",
    "    processHist.mergeHistLinks(ctry, link_type)"
   ]
  },
  {
   "cell_type": "markdown",
   "id": "7a33742b-0aec-4149-963a-1199e882af95",
   "metadata": {},
   "source": [
    "#### extractHistLinks(ctry, link_type)\n",
    "6. For EPVY backed links, groupby subsidiary and calculate the number of parents for each year. Save it as Ownership/GB/GB_links_inv_extract.csv.\n",
    "7. For dir50 and duo50, groupby subsidiary and find their parents for each year. \n",
    "8. Forward fill the parents if missing.\n",
    "9. Extract links for each year as Ownership/GB/GB_links_*link-type_extract_*.csv (*link-type can be dir50 or duo50, * is the year)."
   ]
  },
  {
   "cell_type": "code",
   "execution_count": 5,
   "id": "b53fbfd1-0046-4237-ba70-fb90f8ddceee",
   "metadata": {},
   "outputs": [
    {
     "name": "stderr",
     "output_type": "stream",
     "text": [
      "/nas/longleaf/rhel8/apps/anaconda/2021.11.ood/lib/python3.9/site-packages/pandas/core/indexing.py:719: FutureWarning: Slicing a positional slice with .loc is not supported, and will raise TypeError in a future version.  Use .loc with labels or .iloc with positions instead.\n",
      "  indexer = self._get_setitem_indexer(key)\n",
      "/tmp/ipykernel_4121580/2992814864.py:5: DtypeWarning: Columns (2) have mixed types.Specify dtype option on import or set low_memory=False.\n",
      "  processHist.extractHistLinks(ctry, link_type)\n"
     ]
    },
    {
     "name": "stdout",
     "output_type": "stream",
     "text": [
      "1999\n",
      "2000\n",
      "2001\n",
      "2002\n",
      "2003\n",
      "2004\n",
      "2005\n",
      "2006\n",
      "2007\n",
      "2008\n",
      "2009\n",
      "2010\n",
      "2011\n",
      "2012\n",
      "2013\n",
      "2014\n",
      "2015\n",
      "2016\n",
      "2017\n",
      "2018\n",
      "2019\n",
      "2020\n",
      "1999 2\n",
      "2000 12\n",
      "2001 16\n",
      "2002 57\n",
      "2003 133\n",
      "2004 817\n",
      "2005 2541\n",
      "2006 14689\n",
      "2007 1496474\n",
      "2008 1639841\n",
      "2009 1707928\n",
      "2010 1830752\n",
      "2011 2054538\n",
      "2012 2621164\n",
      "2013 4709579\n",
      "2014 4888358\n",
      "2015 5089958\n",
      "2016 5260277\n",
      "2017 5248788\n",
      "2018 5129099\n",
      "2019 4858315\n",
      "2020 4944478\n"
     ]
    },
    {
     "name": "stderr",
     "output_type": "stream",
     "text": [
      "/tmp/ipykernel_4121580/2992814864.py:5: DtypeWarning: Columns (3,5) have mixed types.Specify dtype option on import or set low_memory=False.\n",
      "  processHist.extractHistLinks(ctry, link_type)\n"
     ]
    },
    {
     "name": "stdout",
     "output_type": "stream",
     "text": [
      "Number of duplicates: 5252\n",
      "1999\n",
      "2000\n",
      "2001\n",
      "2002\n",
      "2003\n",
      "2004\n",
      "2005\n",
      "2006\n",
      "2007\n",
      "2008\n",
      "2009\n",
      "2010\n",
      "2011\n",
      "2012\n",
      "2013\n",
      "2014\n",
      "2015\n",
      "2016\n",
      "2017\n",
      "2018\n",
      "2019\n",
      "2020\n",
      "1999 18253\n",
      "2000 77335\n",
      "2001 152623\n",
      "2002 367003\n",
      "2003 482088\n",
      "2004 727534\n",
      "2005 953387\n",
      "2006 1260328\n",
      "2007 2491653\n",
      "2008 2031382\n",
      "2009 2150801\n",
      "2010 2297386\n",
      "2011 2564794\n",
      "2012 3196033\n",
      "2013 5750107\n",
      "2014 5937592\n",
      "2015 6162567\n",
      "2016 6348482\n",
      "2017 6352328\n",
      "2018 6204147\n",
      "2019 5868479\n",
      "2020 5929526\n"
     ]
    }
   ],
   "source": [
    "for link_type in ['inv', 'duo50', 'dir50']:\n",
    "    processHist.extractHistLinks(ctry, link_type)"
   ]
  },
  {
   "cell_type": "markdown",
   "id": "c0ca3cf6-b954-41c8-864c-8fcac7b99827",
   "metadata": {},
   "source": [
    "#### splitBackedLinks(ctry)\n",
    "From Ownership/GB/GB_links_inv_final.csv, do the same extract procedure for each of the E, P, V, Y and save them as Ownership/GB/GB_links_*_extract.csv."
   ]
  },
  {
   "cell_type": "code",
   "execution_count": 3,
   "id": "4c911258-0618-4085-a54e-dcbc60546bca",
   "metadata": {},
   "outputs": [],
   "source": [
    "# processHist.splitBackedLinks(ctry) # only run for PV"
   ]
  },
  {
   "cell_type": "code",
   "execution_count": null,
   "id": "dd5eef41-5241-4ffc-8862-37dc57a66243",
   "metadata": {},
   "outputs": [],
   "source": [
    "# processHist.splitBackedLinks(ctry, fd=True)"
   ]
  },
  {
   "cell_type": "code",
   "execution_count": 2,
   "id": "71c70353-71f1-4364-ae09-4e8ac3c8ee99",
   "metadata": {},
   "outputs": [],
   "source": [
    "# processHist.splitBackedLinks(ctry, fd=False, ori=True)"
   ]
  },
  {
   "cell_type": "code",
   "execution_count": 2,
   "id": "127e0e5c-730d-4591-943c-a4d6c68c7fa9",
   "metadata": {},
   "outputs": [
    {
     "name": "stderr",
     "output_type": "stream",
     "text": [
      "/tmp/ipykernel_773948/3465473917.py:1: DtypeWarning: Columns (1,3,5,9,11,13,15,16,17,19,21,22,23,24,25,26,30,32) have mixed types.Specify dtype option on import or set low_memory=False.\n",
      "  processHist.splitBackedLinks(ctry=ctry, fd=False, ori=False, nff=True)\n",
      "/tmp/ipykernel_773948/3465473917.py:1: DtypeWarning: Columns (2,4) have mixed types.Specify dtype option on import or set low_memory=False.\n",
      "  processHist.splitBackedLinks(ctry=ctry, fd=False, ori=False, nff=True)\n",
      "/nas/longleaf/rhel8/apps/anaconda/2021.11.ood/lib/python3.9/site-packages/pandas/core/indexing.py:719: FutureWarning: Slicing a positional slice with .loc is not supported, and will raise TypeError in a future version.  Use .loc with labels or .iloc with positions instead.\n",
      "  indexer = self._get_setitem_indexer(key)\n",
      "/tmp/ipykernel_773948/3465473917.py:1: DtypeWarning: Columns (4,6,14,15,16,17) have mixed types.Specify dtype option on import or set low_memory=False.\n",
      "  processHist.splitBackedLinks(ctry=ctry, fd=False, ori=False, nff=True)\n"
     ]
    },
    {
     "name": "stdout",
     "output_type": "stream",
     "text": [
      "2007 2006\n",
      "2007 2007\n",
      "2007 2004\n",
      "2007 2005\n",
      "2007 2003\n",
      "2007 2002\n",
      "2007 2001\n",
      "2007 2000\n",
      "2007 1999\n",
      "2008 2008\n",
      "2008 2007\n",
      "2008 2006\n",
      "2008 2005\n",
      "2008 2004\n",
      "2008 2003\n",
      "2008 2000\n",
      "2008 2001\n",
      "2008 2002\n",
      "2008 1999\n",
      "2009 2008\n",
      "2009 2009\n",
      "2009 2007\n",
      "2009 2006\n",
      "2009 2005\n",
      "2009 2004\n",
      "2009 2003\n",
      "2009 2001\n",
      "2009 2000\n",
      "2009 2002\n",
      "2009 1999\n",
      "2010 2010\n",
      "2010 2007\n",
      "2010 2009\n",
      "2010 2008\n",
      "2010 2004\n",
      "2010 2006\n",
      "2010 2005\n",
      "2010 2003\n",
      "2010 2001\n",
      "2010 2000\n",
      "2010 2002\n",
      "2011 2011\n",
      "2011 2010\n",
      "2011 2009\n",
      "2011 2008\n",
      "2011 2007\n",
      "2011 2004\n",
      "2011 2006\n",
      "2011 2005\n",
      "2011 2003\n",
      "2011 2001\n",
      "2011 2002\n",
      "2012 2012\n",
      "2012 2010\n",
      "2012 2009\n",
      "2012 2011\n",
      "2012 2007\n",
      "2012 2008\n",
      "2012 2006\n",
      "2012 2003\n",
      "2012 2004\n",
      "2012 2005\n",
      "2012 2002\n",
      "2013 2013\n",
      "2013 2010\n",
      "2013 2012\n",
      "2013 2011\n",
      "2013 2007\n",
      "2013 2009\n",
      "2013 2008\n",
      "2013 2006\n",
      "2013 2004\n",
      "2013 2003\n",
      "2013 2005\n",
      "2013 2002\n",
      "2014 2014\n",
      "2014 2013\n",
      "2014 2011\n",
      "2014 2012\n",
      "2014 2007\n",
      "2014 2010\n",
      "2014 2008\n",
      "2014 2004\n",
      "2014 2005\n",
      "2014 2009\n",
      "2014 2006\n",
      "2014 2002\n",
      "2015 2015\n",
      "2015 2012\n",
      "2015 2013\n",
      "2015 2014\n",
      "2015 2011\n",
      "2015 2010\n",
      "2015 2008\n",
      "2015 2005\n",
      "2015 2009\n",
      "2015 2006\n",
      "2015 2007\n",
      "2015 2002\n",
      "2016 2016\n",
      "2016 2015\n",
      "2016 2014\n",
      "2016 2013\n",
      "2016 2011\n",
      "2016 2012\n",
      "2016 2008\n",
      "2016 2010\n",
      "2016 2009\n",
      "2016 2006\n",
      "2016 2007\n",
      "2016 2002\n",
      "2017 2017\n",
      "2017 2016\n",
      "2017 2015\n",
      "2017 2014\n",
      "2017 2013\n",
      "2017 2012\n",
      "2017 2011\n",
      "2017 2010\n",
      "2017 2008\n",
      "2017 2009\n",
      "2017 2007\n",
      "2017 2002\n",
      "2018 2018\n",
      "2018 2017\n",
      "2018 2015\n",
      "2018 2016\n",
      "2018 2011\n",
      "2018 2012\n",
      "2018 2013\n",
      "2018 2014\n",
      "2018 2008\n",
      "2018 2010\n",
      "2018 2009\n",
      "2018 2007\n",
      "2018 2002\n",
      "2019 2019\n",
      "2019 2018\n",
      "2019 2016\n",
      "2019 2017\n",
      "2019 2013\n",
      "2019 2012\n",
      "2019 2014\n",
      "2019 2015\n",
      "2019 2011\n",
      "2019 2010\n",
      "2019 2009\n",
      "2019 2007\n",
      "2019 2002\n",
      "2020 2020\n",
      "2020 2018\n",
      "2020 2019\n",
      "2020 2013\n",
      "2020 2017\n",
      "2020 2015\n",
      "2020 2016\n",
      "2020 2014\n",
      "2020 2011\n",
      "2020 2012\n",
      "2020 2010\n",
      "2020 2007\n",
      "2020 2009\n",
      "2020 2002\n"
     ]
    },
    {
     "name": "stderr",
     "output_type": "stream",
     "text": [
      "/tmp/ipykernel_773948/3465473917.py:1: DtypeWarning: Columns (16,17) have mixed types.Specify dtype option on import or set low_memory=False.\n",
      "  processHist.splitBackedLinks(ctry=ctry, fd=False, ori=False, nff=True)\n"
     ]
    },
    {
     "name": "stdout",
     "output_type": "stream",
     "text": [
      "archived 2008\n",
      "archived 2002\n",
      "archived 2003\n",
      "archived 2004\n",
      "archived 2005\n",
      "archived 2007\n",
      "archived 2009\n",
      "archived 2010\n",
      "archived 2011\n",
      "archived 2012\n",
      "archived 2013\n",
      "archived 2014\n",
      "archived 2015\n",
      "archived 2016\n",
      "archived 2017\n",
      "archived 2018\n",
      "archived 2019\n",
      "archived 2006\n",
      "archived 2020\n",
      "archived 2001\n",
      "archived 2000\n",
      "archived 1999\n"
     ]
    }
   ],
   "source": [
    "processHist.splitBackedLinks(ctry=ctry, fd=False, ori=False, nff=True)"
   ]
  },
  {
   "cell_type": "code",
   "execution_count": 3,
   "id": "0b41d1fe-1618-433c-b934-d51073a40eb1",
   "metadata": {},
   "outputs": [
    {
     "name": "stderr",
     "output_type": "stream",
     "text": [
      "/tmp/ipykernel_773948/2063244762.py:1: DtypeWarning: Columns (1,3,5,9,11,13,15,16,17,19,21,22,23,24,25,26,30,32) have mixed types.Specify dtype option on import or set low_memory=False.\n",
      "  processHist.splitBackedLinks(ctry=ctry, fd=False, ori=True, nff=True)\n",
      "/tmp/ipykernel_773948/2063244762.py:1: DtypeWarning: Columns (2,4) have mixed types.Specify dtype option on import or set low_memory=False.\n",
      "  processHist.splitBackedLinks(ctry=ctry, fd=False, ori=True, nff=True)\n",
      "/tmp/ipykernel_773948/2063244762.py:1: DtypeWarning: Columns (4,6,14,15,16,17) have mixed types.Specify dtype option on import or set low_memory=False.\n",
      "  processHist.splitBackedLinks(ctry=ctry, fd=False, ori=True, nff=True)\n"
     ]
    },
    {
     "name": "stdout",
     "output_type": "stream",
     "text": [
      "2007 2006\n",
      "2007 2007\n",
      "2007 2004\n",
      "2007 2005\n",
      "2007 2003\n",
      "2007 2002\n",
      "2007 2001\n",
      "2007 2000\n",
      "2007 1999\n",
      "2008 2008\n",
      "2008 2007\n",
      "2008 2006\n",
      "2008 2005\n",
      "2008 2004\n",
      "2008 2003\n",
      "2008 2000\n",
      "2008 2001\n",
      "2008 2002\n",
      "2008 1999\n",
      "2009 2008\n",
      "2009 2009\n",
      "2009 2007\n",
      "2009 2006\n",
      "2009 2005\n",
      "2009 2004\n",
      "2009 2003\n",
      "2009 2001\n",
      "2009 2000\n",
      "2009 2002\n",
      "2009 1999\n",
      "2010 2010\n",
      "2010 2007\n",
      "2010 2009\n",
      "2010 2008\n",
      "2010 2004\n",
      "2010 2006\n",
      "2010 2005\n",
      "2010 2003\n",
      "2010 2001\n",
      "2010 2000\n",
      "2010 2002\n",
      "2011 2011\n",
      "2011 2010\n",
      "2011 2009\n",
      "2011 2008\n",
      "2011 2007\n",
      "2011 2004\n",
      "2011 2006\n",
      "2011 2005\n",
      "2011 2003\n",
      "2011 2001\n",
      "2011 2002\n",
      "2012 2012\n",
      "2012 2010\n",
      "2012 2009\n",
      "2012 2011\n",
      "2012 2007\n",
      "2012 2008\n",
      "2012 2006\n",
      "2012 2003\n",
      "2012 2004\n",
      "2012 2005\n",
      "2012 2002\n",
      "2013 2013\n",
      "2013 2010\n",
      "2013 2012\n",
      "2013 2011\n",
      "2013 2007\n",
      "2013 2009\n",
      "2013 2008\n",
      "2013 2006\n",
      "2013 2004\n",
      "2013 2003\n",
      "2013 2005\n",
      "2013 2002\n",
      "2014 2014\n",
      "2014 2013\n",
      "2014 2011\n",
      "2014 2012\n",
      "2014 2007\n",
      "2014 2010\n",
      "2014 2008\n",
      "2014 2004\n",
      "2014 2005\n",
      "2014 2009\n",
      "2014 2006\n",
      "2014 2002\n",
      "2015 2015\n",
      "2015 2012\n",
      "2015 2013\n",
      "2015 2014\n",
      "2015 2011\n",
      "2015 2010\n",
      "2015 2008\n",
      "2015 2005\n",
      "2015 2009\n",
      "2015 2006\n",
      "2015 2007\n",
      "2015 2002\n",
      "2016 2016\n",
      "2016 2015\n",
      "2016 2014\n",
      "2016 2013\n",
      "2016 2011\n",
      "2016 2012\n",
      "2016 2008\n",
      "2016 2010\n",
      "2016 2009\n",
      "2016 2006\n",
      "2016 2007\n",
      "2016 2002\n",
      "2017 2017\n",
      "2017 2016\n",
      "2017 2015\n",
      "2017 2014\n",
      "2017 2013\n",
      "2017 2012\n",
      "2017 2011\n",
      "2017 2010\n",
      "2017 2008\n",
      "2017 2009\n",
      "2017 2007\n",
      "2017 2002\n",
      "2018 2018\n",
      "2018 2017\n",
      "2018 2015\n",
      "2018 2016\n",
      "2018 2011\n",
      "2018 2012\n",
      "2018 2013\n",
      "2018 2014\n",
      "2018 2008\n",
      "2018 2010\n",
      "2018 2009\n",
      "2018 2007\n",
      "2018 2002\n",
      "2019 2019\n",
      "2019 2018\n",
      "2019 2016\n",
      "2019 2017\n",
      "2019 2013\n",
      "2019 2012\n",
      "2019 2014\n",
      "2019 2015\n",
      "2019 2011\n",
      "2019 2010\n",
      "2019 2009\n",
      "2019 2007\n",
      "2019 2002\n",
      "2020 2020\n",
      "2020 2018\n",
      "2020 2019\n",
      "2020 2013\n",
      "2020 2017\n",
      "2020 2015\n",
      "2020 2016\n",
      "2020 2014\n",
      "2020 2011\n",
      "2020 2012\n",
      "2020 2010\n",
      "2020 2007\n",
      "2020 2009\n",
      "2020 2002\n"
     ]
    },
    {
     "name": "stderr",
     "output_type": "stream",
     "text": [
      "/tmp/ipykernel_773948/2063244762.py:1: DtypeWarning: Columns (16,17) have mixed types.Specify dtype option on import or set low_memory=False.\n",
      "  processHist.splitBackedLinks(ctry=ctry, fd=False, ori=True, nff=True)\n"
     ]
    },
    {
     "name": "stdout",
     "output_type": "stream",
     "text": [
      "archived 2008\n",
      "archived 2002\n",
      "archived 2003\n",
      "archived 2004\n",
      "archived 2005\n",
      "archived 2007\n",
      "archived 2009\n",
      "archived 2010\n",
      "archived 2011\n",
      "archived 2012\n",
      "archived 2013\n",
      "archived 2014\n",
      "archived 2015\n",
      "archived 2016\n",
      "archived 2017\n",
      "archived 2018\n",
      "archived 2019\n",
      "archived 2006\n",
      "archived 2020\n",
      "archived 2001\n",
      "archived 2000\n",
      "archived 1999\n"
     ]
    }
   ],
   "source": [
    "processHist.splitBackedLinks(ctry=ctry, fd=False, ori=True, nff=True)"
   ]
  },
  {
   "cell_type": "code",
   "execution_count": 4,
   "id": "68025883-7a9e-42a7-ad46-f433c93c5256",
   "metadata": {},
   "outputs": [
    {
     "name": "stderr",
     "output_type": "stream",
     "text": [
      "/tmp/ipykernel_773948/686173957.py:1: DtypeWarning: Columns (1,3,5,9,11,13,15,16,17,19,21,22,23,24,25,26,30,32) have mixed types.Specify dtype option on import or set low_memory=False.\n",
      "  processHist.splitBackedLinks(ctry=ctry, fd=True, ori=False, nff=True)\n",
      "/tmp/ipykernel_773948/686173957.py:1: DtypeWarning: Columns (4,6,14,15,16,17) have mixed types.Specify dtype option on import or set low_memory=False.\n",
      "  processHist.splitBackedLinks(ctry=ctry, fd=True, ori=False, nff=True)\n"
     ]
    },
    {
     "name": "stdout",
     "output_type": "stream",
     "text": [
      "2007 2006\n",
      "2007 2007\n",
      "2007 2004\n",
      "2007 2005\n",
      "2007 2003\n",
      "2007 2002\n",
      "2007 2001\n",
      "2007 2000\n",
      "2007 1999\n",
      "2008 2008\n",
      "2008 2007\n",
      "2008 2006\n",
      "2008 2005\n",
      "2008 2004\n",
      "2008 2003\n",
      "2008 2000\n",
      "2008 2001\n",
      "2008 2002\n",
      "2008 1999\n",
      "2009 2008\n",
      "2009 2009\n",
      "2009 2007\n",
      "2009 2006\n",
      "2009 2005\n",
      "2009 2004\n",
      "2009 2003\n",
      "2009 2001\n",
      "2009 2000\n",
      "2009 2002\n",
      "2009 1999\n",
      "2010 2010\n",
      "2010 2007\n",
      "2010 2009\n",
      "2010 2008\n",
      "2010 2004\n",
      "2010 2006\n",
      "2010 2005\n",
      "2010 2003\n",
      "2010 2001\n",
      "2010 2000\n",
      "2010 2002\n",
      "2011 2011\n",
      "2011 2010\n",
      "2011 2009\n",
      "2011 2008\n",
      "2011 2007\n",
      "2011 2004\n",
      "2011 2006\n",
      "2011 2005\n",
      "2011 2003\n",
      "2011 2001\n",
      "2011 2002\n",
      "2012 2012\n",
      "2012 2010\n",
      "2012 2009\n",
      "2012 2011\n",
      "2012 2007\n",
      "2012 2008\n",
      "2012 2006\n",
      "2012 2003\n",
      "2012 2004\n",
      "2012 2005\n",
      "2012 2002\n",
      "2013 2013\n",
      "2013 2010\n",
      "2013 2012\n",
      "2013 2011\n",
      "2013 2007\n",
      "2013 2009\n",
      "2013 2008\n",
      "2013 2006\n",
      "2013 2004\n",
      "2013 2003\n",
      "2013 2005\n",
      "2013 2002\n",
      "2014 2014\n",
      "2014 2013\n",
      "2014 2011\n",
      "2014 2012\n",
      "2014 2007\n",
      "2014 2010\n",
      "2014 2008\n",
      "2014 2004\n",
      "2014 2005\n",
      "2014 2009\n",
      "2014 2006\n",
      "2014 2002\n",
      "2015 2015\n",
      "2015 2012\n",
      "2015 2013\n",
      "2015 2014\n",
      "2015 2011\n",
      "2015 2010\n",
      "2015 2008\n",
      "2015 2005\n",
      "2015 2009\n",
      "2015 2006\n",
      "2015 2007\n",
      "2015 2002\n",
      "2016 2016\n",
      "2016 2015\n",
      "2016 2014\n",
      "2016 2013\n",
      "2016 2011\n",
      "2016 2012\n",
      "2016 2008\n",
      "2016 2010\n",
      "2016 2009\n",
      "2016 2006\n",
      "2016 2007\n",
      "2016 2002\n",
      "2017 2017\n",
      "2017 2016\n",
      "2017 2015\n",
      "2017 2014\n",
      "2017 2013\n",
      "2017 2012\n",
      "2017 2011\n",
      "2017 2010\n",
      "2017 2008\n",
      "2017 2009\n",
      "2017 2007\n",
      "2017 2002\n",
      "2018 2018\n",
      "2018 2017\n",
      "2018 2015\n",
      "2018 2016\n",
      "2018 2011\n",
      "2018 2012\n",
      "2018 2013\n",
      "2018 2014\n",
      "2018 2008\n",
      "2018 2010\n",
      "2018 2009\n",
      "2018 2007\n",
      "2018 2002\n",
      "2019 2019\n",
      "2019 2018\n",
      "2019 2016\n",
      "2019 2017\n",
      "2019 2013\n",
      "2019 2012\n",
      "2019 2014\n",
      "2019 2015\n",
      "2019 2011\n",
      "2019 2010\n",
      "2019 2009\n",
      "2019 2007\n",
      "2019 2002\n",
      "2020 2020\n",
      "2020 2018\n",
      "2020 2019\n",
      "2020 2013\n",
      "2020 2017\n",
      "2020 2015\n",
      "2020 2016\n",
      "2020 2014\n",
      "2020 2011\n",
      "2020 2012\n",
      "2020 2010\n",
      "2020 2007\n",
      "2020 2009\n",
      "2020 2002\n"
     ]
    },
    {
     "name": "stderr",
     "output_type": "stream",
     "text": [
      "/tmp/ipykernel_773948/686173957.py:1: DtypeWarning: Columns (16,17) have mixed types.Specify dtype option on import or set low_memory=False.\n",
      "  processHist.splitBackedLinks(ctry=ctry, fd=True, ori=False, nff=True)\n"
     ]
    },
    {
     "name": "stdout",
     "output_type": "stream",
     "text": [
      "archived 2008\n",
      "archived 2002\n",
      "archived 2003\n",
      "archived 2004\n",
      "archived 2005\n",
      "archived 2007\n",
      "archived 2009\n",
      "archived 2010\n",
      "archived 2011\n",
      "archived 2012\n",
      "archived 2013\n",
      "archived 2014\n",
      "archived 2015\n",
      "archived 2016\n",
      "archived 2017\n",
      "archived 2018\n",
      "archived 2019\n",
      "archived 2006\n",
      "archived 2020\n",
      "archived 2001\n",
      "archived 2000\n",
      "archived 1999\n"
     ]
    }
   ],
   "source": [
    "processHist.splitBackedLinks(ctry=ctry, fd=True, ori=False, nff=True)"
   ]
  },
  {
   "cell_type": "markdown",
   "id": "955cdea0-f3bc-45fa-9d21-f01aa6c1a84c",
   "metadata": {},
   "source": [
    "#### propagateHistLinks(ctry)\n",
    "1. For each year, exclude those links that contain inactive parents.\n",
    "2. Include only links that the parents are industrial companies (from entities_GB.csv).\n",
    "3. Extract parents that are not subsidiaries of others as ultimate parents. Set the ultimate parents for these firms as themselves.\n",
    "4. For all the subsidiaries, initialize the ultimate parent as their direct parent.\n",
    "4. Combine ultimate parents and all the subsidiaries in a single dataframe.\n",
    "5. Iterate n times, each time pass the ultimate parent of the parent to its child.\n",
    "6. Do the propagation for dir50 and duo50.\n",
    "    - For duo50, we still need to do propagation since we are merging multiple years and there can be missing duo50 links if it was not updated properly.\n",
    "7. Exclude subsidiaries in dir50 that are either the subsidiaries or the shareholders in duo50.\n",
    "8. If an ultimate parent is a subsidiary in some links in duo50, we replace the ultimate parent to be the true ultimate parent in duo50.\n",
    "9. We combine dir50 and duo50 and save it as Ownership/GB/comb_GB_*.csv (* is the year).\n"
   ]
  },
  {
   "cell_type": "code",
   "execution_count": 4,
   "id": "4350c8e7-5a92-4101-946e-9519607a08b2",
   "metadata": {},
   "outputs": [
    {
     "name": "stderr",
     "output_type": "stream",
     "text": [
      "/nas/longleaf/home/yiluy/projects/BvDAnalysis/processHist.py:1182: DtypeWarning: Columns (3) have mixed types.Specify dtype option on import or set low_memory=False.\n",
      "  ind_set, inv_set, entity = getEntitiesSets(ctry)\n",
      "/nas/longleaf/home/yiluy/projects/BvDAnalysis/processHist.py:1182: DtypeWarning: Columns (2,4) have mixed types.Specify dtype option on import or set low_memory=False.\n",
      "  ind_set, inv_set, entity = getEntitiesSets(ctry)\n",
      "/nas/longleaf/home/yiluy/projects/BvDAnalysis/processHist.py:318: DtypeWarning: Columns (6,8,14,22,25,27,36,37) have mixed types.Specify dtype option on import or set low_memory=False.\n",
      "  df_header = readWRDSHeader(ctry)\n"
     ]
    },
    {
     "name": "stdout",
     "output_type": "stream",
     "text": [
      "2020\n",
      "2019\n",
      "2018\n",
      "2017\n",
      "2016\n",
      "2015\n",
      "2014\n",
      "2013\n",
      "2012\n",
      "2011\n",
      "2010\n",
      "2009\n",
      "2008\n",
      "2007\n",
      "2006\n",
      "2005\n",
      "2004\n",
      "2003\n",
      "2002\n",
      "2001\n",
      "2000\n",
      "1999\n"
     ]
    }
   ],
   "source": [
    "processHist.propagateHistLinks(ctry)"
   ]
  },
  {
   "cell_type": "code",
   "execution_count": 2,
   "id": "4eeaab2c-4c8e-417e-bac1-896c7634bea8",
   "metadata": {},
   "outputs": [
    {
     "name": "stderr",
     "output_type": "stream",
     "text": [
      "/nas/longleaf/rhel8/apps/anaconda/2021.11.ood/lib/python3.9/site-packages/IPython/core/interactiveshell.py:3444: DtypeWarning: Columns (6,8,105,107,109,113,115,117,119,129,135,136) have mixed types.Specify dtype option on import or set low_memory=False.\n",
      "  exec(code_obj, self.user_global_ns, self.user_ns)\n"
     ]
    }
   ],
   "source": [
    "# merge links, then merge Zephyr\n",
    "df = pd.read_csv(fin_hist_fd +  ctry + '/' + ctry + '_filter1_merge_cons_yr_panel_ind.csv')"
   ]
  },
  {
   "cell_type": "code",
   "execution_count": 3,
   "id": "e7e39f04-594e-4003-9a0e-dd5b54813617",
   "metadata": {},
   "outputs": [
    {
     "name": "stderr",
     "output_type": "stream",
     "text": [
      "/nas/longleaf/home/yiluy/projects/BvDAnalysis/processHist.py:318: DtypeWarning: Columns (6,8,14,22,25,27,36,37) have mixed types.Specify dtype option on import or set low_memory=False.\n",
      "  df_header = readWRDSHeader(ctry)\n"
     ]
    }
   ],
   "source": [
    "df_header = processHist.getMergedHeader(ctry)"
   ]
  },
  {
   "cell_type": "code",
   "execution_count": 4,
   "id": "6d1762b7-565e-4139-8935-a8a2064f845d",
   "metadata": {},
   "outputs": [
    {
     "name": "stderr",
     "output_type": "stream",
     "text": [
      "/nas/longleaf/home/yiluy/projects/BvDAnalysis/processHist.py:1301: DtypeWarning: Columns (3,5) have mixed types.Specify dtype option on import or set low_memory=False.\n",
      "  ind_set, inv_set, entity_copy = getEntitiesSets(ctry)\n",
      "/nas/longleaf/home/yiluy/projects/BvDAnalysis/processHist.py:1301: DtypeWarning: Columns (2,4) have mixed types.Specify dtype option on import or set low_memory=False.\n",
      "  ind_set, inv_set, entity_copy = getEntitiesSets(ctry)\n",
      "/tmp/ipykernel_3454682/452302218.py:1: DtypeWarning: Columns (17) have mixed types.Specify dtype option on import or set low_memory=False.\n",
      "  df = processHist.mergeLinks(df, df_header, ctry=ctry, start_yr=2002)\n"
     ]
    },
    {
     "name": "stdout",
     "output_type": "stream",
     "text": [
      "2002\n"
     ]
    },
    {
     "name": "stderr",
     "output_type": "stream",
     "text": [
      "/tmp/ipykernel_3454682/452302218.py:1: DtypeWarning: Columns (11,12) have mixed types.Specify dtype option on import or set low_memory=False.\n",
      "  df = processHist.mergeLinks(df, df_header, ctry=ctry, start_yr=2002)\n"
     ]
    },
    {
     "name": "stdout",
     "output_type": "stream",
     "text": [
      "2003\n"
     ]
    },
    {
     "name": "stderr",
     "output_type": "stream",
     "text": [
      "/tmp/ipykernel_3454682/452302218.py:1: DtypeWarning: Columns (12,13) have mixed types.Specify dtype option on import or set low_memory=False.\n",
      "  df = processHist.mergeLinks(df, df_header, ctry=ctry, start_yr=2002)\n"
     ]
    },
    {
     "name": "stdout",
     "output_type": "stream",
     "text": [
      "2004\n"
     ]
    },
    {
     "name": "stderr",
     "output_type": "stream",
     "text": [
      "/tmp/ipykernel_3454682/452302218.py:1: DtypeWarning: Columns (15,16) have mixed types.Specify dtype option on import or set low_memory=False.\n",
      "  df = processHist.mergeLinks(df, df_header, ctry=ctry, start_yr=2002)\n"
     ]
    },
    {
     "name": "stdout",
     "output_type": "stream",
     "text": [
      "2005\n"
     ]
    },
    {
     "name": "stderr",
     "output_type": "stream",
     "text": [
      "/tmp/ipykernel_3454682/452302218.py:1: DtypeWarning: Columns (13,14,15,16) have mixed types.Specify dtype option on import or set low_memory=False.\n",
      "  df = processHist.mergeLinks(df, df_header, ctry=ctry, start_yr=2002)\n"
     ]
    },
    {
     "name": "stdout",
     "output_type": "stream",
     "text": [
      "2006\n"
     ]
    },
    {
     "name": "stderr",
     "output_type": "stream",
     "text": [
      "/tmp/ipykernel_3454682/452302218.py:1: DtypeWarning: Columns (16) have mixed types.Specify dtype option on import or set low_memory=False.\n",
      "  df = processHist.mergeLinks(df, df_header, ctry=ctry, start_yr=2002)\n"
     ]
    },
    {
     "name": "stdout",
     "output_type": "stream",
     "text": [
      "2007\n"
     ]
    },
    {
     "name": "stderr",
     "output_type": "stream",
     "text": [
      "/tmp/ipykernel_3454682/452302218.py:1: DtypeWarning: Columns (17,18,19,20) have mixed types.Specify dtype option on import or set low_memory=False.\n",
      "  df = processHist.mergeLinks(df, df_header, ctry=ctry, start_yr=2002)\n"
     ]
    },
    {
     "name": "stdout",
     "output_type": "stream",
     "text": [
      "2008\n"
     ]
    },
    {
     "name": "stderr",
     "output_type": "stream",
     "text": [
      "/tmp/ipykernel_3454682/452302218.py:1: DtypeWarning: Columns (14,15,16,17,18,19,20) have mixed types.Specify dtype option on import or set low_memory=False.\n",
      "  df = processHist.mergeLinks(df, df_header, ctry=ctry, start_yr=2002)\n"
     ]
    },
    {
     "name": "stdout",
     "output_type": "stream",
     "text": [
      "2009\n"
     ]
    },
    {
     "name": "stderr",
     "output_type": "stream",
     "text": [
      "/tmp/ipykernel_3454682/452302218.py:1: DtypeWarning: Columns (16,17,18,19,20) have mixed types.Specify dtype option on import or set low_memory=False.\n",
      "  df = processHist.mergeLinks(df, df_header, ctry=ctry, start_yr=2002)\n"
     ]
    },
    {
     "name": "stdout",
     "output_type": "stream",
     "text": [
      "2010\n"
     ]
    },
    {
     "name": "stderr",
     "output_type": "stream",
     "text": [
      "/tmp/ipykernel_3454682/452302218.py:1: DtypeWarning: Columns (18,19,20) have mixed types.Specify dtype option on import or set low_memory=False.\n",
      "  df = processHist.mergeLinks(df, df_header, ctry=ctry, start_yr=2002)\n"
     ]
    },
    {
     "name": "stdout",
     "output_type": "stream",
     "text": [
      "2011\n"
     ]
    },
    {
     "name": "stderr",
     "output_type": "stream",
     "text": [
      "/tmp/ipykernel_3454682/452302218.py:1: DtypeWarning: Columns (12,13,14,15,16,17,18,19) have mixed types.Specify dtype option on import or set low_memory=False.\n",
      "  df = processHist.mergeLinks(df, df_header, ctry=ctry, start_yr=2002)\n"
     ]
    },
    {
     "name": "stdout",
     "output_type": "stream",
     "text": [
      "2012\n"
     ]
    },
    {
     "name": "stderr",
     "output_type": "stream",
     "text": [
      "/tmp/ipykernel_3454682/452302218.py:1: DtypeWarning: Columns (15,16,17,18,19) have mixed types.Specify dtype option on import or set low_memory=False.\n",
      "  df = processHist.mergeLinks(df, df_header, ctry=ctry, start_yr=2002)\n"
     ]
    },
    {
     "name": "stdout",
     "output_type": "stream",
     "text": [
      "2013\n",
      "2014\n",
      "2015\n",
      "2016\n",
      "2017\n",
      "2018\n",
      "2019\n"
     ]
    },
    {
     "name": "stderr",
     "output_type": "stream",
     "text": [
      "/tmp/ipykernel_3454682/452302218.py:1: DtypeWarning: Columns (13,14,15,16,17,18,19,20,21,22,23) have mixed types.Specify dtype option on import or set low_memory=False.\n",
      "  df = processHist.mergeLinks(df, df_header, ctry=ctry, start_yr=2002)\n"
     ]
    },
    {
     "name": "stdout",
     "output_type": "stream",
     "text": [
      "2020\n"
     ]
    },
    {
     "name": "stderr",
     "output_type": "stream",
     "text": [
      "/tmp/ipykernel_3454682/452302218.py:1: DtypeWarning: Columns (14,15,16,17,18,19,20,21,22) have mixed types.Specify dtype option on import or set low_memory=False.\n",
      "  df = processHist.mergeLinks(df, df_header, ctry=ctry, start_yr=2002)\n"
     ]
    }
   ],
   "source": [
    "df = processHist.mergeLinks(df, df_header, ctry=ctry, start_yr=2002)"
   ]
  },
  {
   "cell_type": "code",
   "execution_count": 5,
   "id": "4f9cd05f-c88c-4ba2-aef6-d3fd7ab7aa34",
   "metadata": {},
   "outputs": [],
   "source": [
    "df.to_csv(fin_hist_fd +  ctry + '/' + ctry + '_filter1_merge_cons_yr_panel_ind_link.csv', index=False)"
   ]
  },
  {
   "cell_type": "code",
   "execution_count": null,
   "id": "5bf4e63d-3c6a-450a-b627-6ba1ab319147",
   "metadata": {},
   "outputs": [],
   "source": []
  },
  {
   "cell_type": "code",
   "execution_count": 2,
   "id": "9de3eef7-8b4e-4448-9b73-648c4e370bed",
   "metadata": {},
   "outputs": [
    {
     "name": "stderr",
     "output_type": "stream",
     "text": [
      "/nas/longleaf/home/yiluy/projects/BvDAnalysis/processHist.py:318: DtypeWarning: Columns (6,8,14,22,25,27,36,37) have mixed types.Specify dtype option on import or set low_memory=False.\n",
      "  df_header = readWRDSHeader(ctry)\n",
      "/nas/longleaf/home/yiluy/projects/BvDAnalysis/processZephyr.py:212: SettingWithCopyWarning: \n",
      "A value is trying to be set on a copy of a slice from a DataFrame.\n",
      "Try using .loc[row_indexer,col_indexer] = value instead\n",
      "\n",
      "See the caveats in the documentation: https://pandas.pydata.org/pandas-docs/stable/user_guide/indexing.html#returning-a-view-versus-a-copy\n",
      "  temp['final_stake'] = temp['final_stake_3']\n",
      "/nas/longleaf/rhel8/apps/anaconda/2021.11.ood/lib/python3.9/site-packages/pandas/core/frame.py:4906: SettingWithCopyWarning: \n",
      "A value is trying to be set on a copy of a slice from a DataFrame\n",
      "\n",
      "See the caveats in the documentation: https://pandas.pydata.org/pandas-docs/stable/user_guide/indexing.html#returning-a-view-versus-a-copy\n",
      "  return super().drop(\n",
      "/nas/longleaf/home/yiluy/projects/BvDAnalysis/processHist.py:2305: FutureWarning: Inferring datetime64[ns] from data containing strings is deprecated and will be removed in a future version. To retain the old behavior explicitly pass Series(data, dtype={value.dtype})\n",
      "  temp = pd.read_excel('additional_data/ipo_target_unlist_ready.xlsx', sheet_name='Sheet1')\n",
      "/nas/longleaf/rhel8/apps/anaconda/2021.11.ood/lib/python3.9/site-packages/pandas/core/indexing.py:1684: SettingWithCopyWarning: \n",
      "A value is trying to be set on a copy of a slice from a DataFrame.\n",
      "Try using .loc[row_indexer,col_indexer] = value instead\n",
      "\n",
      "See the caveats in the documentation: https://pandas.pydata.org/pandas-docs/stable/user_guide/indexing.html#returning-a-view-versus-a-copy\n",
      "  self.obj[key] = infer_fill_value(value)\n",
      "/nas/longleaf/rhel8/apps/anaconda/2021.11.ood/lib/python3.9/site-packages/pandas/core/indexing.py:1817: SettingWithCopyWarning: \n",
      "A value is trying to be set on a copy of a slice from a DataFrame.\n",
      "Try using .loc[row_indexer,col_indexer] = value instead\n",
      "\n",
      "See the caveats in the documentation: https://pandas.pydata.org/pandas-docs/stable/user_guide/indexing.html#returning-a-view-versus-a-copy\n",
      "  self._setitem_single_column(loc, value, pi)\n",
      "/nas/longleaf/rhel8/apps/anaconda/2021.11.ood/lib/python3.9/site-packages/pandas/core/frame.py:4906: SettingWithCopyWarning: \n",
      "A value is trying to be set on a copy of a slice from a DataFrame\n",
      "\n",
      "See the caveats in the documentation: https://pandas.pydata.org/pandas-docs/stable/user_guide/indexing.html#returning-a-view-versus-a-copy\n",
      "  return super().drop(\n"
     ]
    }
   ],
   "source": [
    "processHist.mergeZephyrHeader(ctry=ctry)"
   ]
  },
  {
   "cell_type": "code",
   "execution_count": 2,
   "id": "b58ecd43-9165-4ff9-adec-2365f2e8a76b",
   "metadata": {},
   "outputs": [
    {
     "name": "stderr",
     "output_type": "stream",
     "text": [
      "/nas/longleaf/rhel8/apps/anaconda/2021.11.ood/lib/python3.9/site-packages/IPython/core/interactiveshell.py:3444: DtypeWarning: Columns (6,8,105,107,109,113,115,117,119,129,135,136,139,140,141,142,143,144) have mixed types.Specify dtype option on import or set low_memory=False.\n",
      "  exec(code_obj, self.user_global_ns, self.user_ns)\n"
     ]
    }
   ],
   "source": [
    "df = pd.read_csv(fin_hist_fd +  ctry + '/' + ctry + '_filter1_merge_cons_yr_panel_ind_link.csv')"
   ]
  },
  {
   "cell_type": "code",
   "execution_count": 3,
   "id": "8e09fead-38d0-4d7d-91f1-775d54602195",
   "metadata": {},
   "outputs": [
    {
     "name": "stderr",
     "output_type": "stream",
     "text": [
      "/nas/longleaf/rhel8/apps/anaconda/2021.11.ood/lib/python3.9/site-packages/IPython/core/interactiveshell.py:3444: DtypeWarning: Columns (1,3,5,9,11,13,15,16,17,19,21,22,23,24,25,26,30,32) have mixed types.Specify dtype option on import or set low_memory=False.\n",
      "  exec(code_obj, self.user_global_ns, self.user_ns)\n"
     ]
    }
   ],
   "source": [
    "df_header = pd.read_csv(des_hist_fd + ctry + '/' + ctry + '_header_zp_cpst.csv')"
   ]
  },
  {
   "cell_type": "code",
   "execution_count": 4,
   "id": "2bce7936-5cbf-4e6d-8fdc-e8b546dd77d9",
   "metadata": {},
   "outputs": [
    {
     "name": "stderr",
     "output_type": "stream",
     "text": [
      "/nas/longleaf/home/yiluy/projects/BvDAnalysis/processZephyr.py:213: SettingWithCopyWarning: \n",
      "A value is trying to be set on a copy of a slice from a DataFrame.\n",
      "Try using .loc[row_indexer,col_indexer] = value instead\n",
      "\n",
      "See the caveats in the documentation: https://pandas.pydata.org/pandas-docs/stable/user_guide/indexing.html#returning-a-view-versus-a-copy\n",
      "  temp['final_stake'] = temp['final_stake_3']\n",
      "/nas/longleaf/rhel8/apps/anaconda/2021.11.ood/lib/python3.9/site-packages/pandas/core/frame.py:4906: SettingWithCopyWarning: \n",
      "A value is trying to be set on a copy of a slice from a DataFrame\n",
      "\n",
      "See the caveats in the documentation: https://pandas.pydata.org/pandas-docs/stable/user_guide/indexing.html#returning-a-view-versus-a-copy\n",
      "  return super().drop(\n"
     ]
    }
   ],
   "source": [
    "zp = processZephyr.Zephyr()\n",
    "zp.extractDeals()\n",
    "zp.removeDuplicates()\n",
    "zp.readHandCheckData()"
   ]
  },
  {
   "cell_type": "code",
   "execution_count": 5,
   "id": "deecb0ef-5249-4517-a1d7-2f1b96279173",
   "metadata": {},
   "outputs": [],
   "source": [
    "df = processHist.mergeZephyr(df, df_header, zp)"
   ]
  },
  {
   "cell_type": "code",
   "execution_count": 6,
   "id": "77035836-b982-425b-9c76-f221e28dcecd",
   "metadata": {},
   "outputs": [
    {
     "name": "stderr",
     "output_type": "stream",
     "text": [
      "/nas/longleaf/home/yiluy/projects/BvDAnalysis/processHist.py:1994: SettingWithCopyWarning: \n",
      "A value is trying to be set on a copy of a slice from a DataFrame.\n",
      "Try using .loc[row_indexer,col_indexer] = value instead\n",
      "\n",
      "See the caveats in the documentation: https://pandas.pydata.org/pandas-docs/stable/user_guide/indexing.html#returning-a-view-versus-a-copy\n",
      "  df_panel['closdate_year'] = df_panel['closdate_year'].astype(float)\n",
      "/nas/longleaf/home/yiluy/projects/BvDAnalysis/processHist.py:1996: SettingWithCopyWarning: \n",
      "A value is trying to be set on a copy of a slice from a DataFrame.\n",
      "Try using .loc[row_indexer,col_indexer] = value instead\n",
      "\n",
      "See the caveats in the documentation: https://pandas.pydata.org/pandas-docs/stable/user_guide/indexing.html#returning-a-view-versus-a-copy\n",
      "  df_panel['first_yr'] = df_panel.groupby('bvdid')['closdate_year'].transform('min')\n",
      "/nas/longleaf/home/yiluy/projects/BvDAnalysis/processHist.py:1997: SettingWithCopyWarning: \n",
      "A value is trying to be set on a copy of a slice from a DataFrame.\n",
      "Try using .loc[row_indexer,col_indexer] = value instead\n",
      "\n",
      "See the caveats in the documentation: https://pandas.pydata.org/pandas-docs/stable/user_guide/indexing.html#returning-a-view-versus-a-copy\n",
      "  df_panel['last_yr'] = df_panel.groupby('bvdid')['closdate_year'].transform('max')\n",
      "/nas/longleaf/home/yiluy/projects/BvDAnalysis/processHist.py:2047: UserWarning: Boolean Series key will be reindexed to match DataFrame index.\n",
      "  temp = temp[temp_idx]\n"
     ]
    }
   ],
   "source": [
    "df = processHist.concatRestructuring(df)"
   ]
  },
  {
   "cell_type": "code",
   "execution_count": 7,
   "id": "e828ae75-041f-4851-8db6-d018a9d845b1",
   "metadata": {},
   "outputs": [
    {
     "name": "stderr",
     "output_type": "stream",
     "text": [
      "/nas/longleaf/rhel8/apps/anaconda/2021.11.ood/lib/python3.9/site-packages/pandas/core/frame.py:5039: SettingWithCopyWarning: \n",
      "A value is trying to be set on a copy of a slice from a DataFrame\n",
      "\n",
      "See the caveats in the documentation: https://pandas.pydata.org/pandas-docs/stable/user_guide/indexing.html#returning-a-view-versus-a-copy\n",
      "  return super().rename(\n",
      "/nas/longleaf/home/yiluy/projects/BvDAnalysis/processHist.py:2139: SettingWithCopyWarning: \n",
      "A value is trying to be set on a copy of a slice from a DataFrame.\n",
      "Try using .loc[row_indexer,col_indexer] = value instead\n",
      "\n",
      "See the caveats in the documentation: https://pandas.pydata.org/pandas-docs/stable/user_guide/indexing.html#returning-a-view-versus-a-copy\n",
      "  temp['tag_count'] = temp.groupby('tag_bvdid')['Deal Number'].transform('count')\n",
      "/nas/longleaf/home/yiluy/projects/BvDAnalysis/processHist.py:2140: SettingWithCopyWarning: \n",
      "A value is trying to be set on a copy of a slice from a DataFrame.\n",
      "Try using .loc[row_indexer,col_indexer] = value instead\n",
      "\n",
      "See the caveats in the documentation: https://pandas.pydata.org/pandas-docs/stable/user_guide/indexing.html#returning-a-view-versus-a-copy\n",
      "  temp['acq_count'] = temp.groupby('acq_bvdid')['Deal Number'].transform('count')\n",
      "/nas/longleaf/home/yiluy/projects/BvDAnalysis/processHist.py:2149: SettingWithCopyWarning: \n",
      "A value is trying to be set on a copy of a slice from a DataFrame.\n",
      "Try using .loc[row_indexer,col_indexer] = value instead\n",
      "\n",
      "See the caveats in the documentation: https://pandas.pydata.org/pandas-docs/stable/user_guide/indexing.html#returning-a-view-versus-a-copy\n",
      "  temp2['prev_acq_yr'] = temp2.sort_values('year').groupby('acq_bvdid')['year'].shift(periods=1)\n",
      "/nas/longleaf/home/yiluy/projects/BvDAnalysis/processHist.py:2150: SettingWithCopyWarning: \n",
      "A value is trying to be set on a copy of a slice from a DataFrame.\n",
      "Try using .loc[row_indexer,col_indexer] = value instead\n",
      "\n",
      "See the caveats in the documentation: https://pandas.pydata.org/pandas-docs/stable/user_guide/indexing.html#returning-a-view-versus-a-copy\n",
      "  temp2['next_acq_yr'] = temp2.sort_values('year').groupby('acq_bvdid')['year'].shift(periods=-1)\n"
     ]
    },
    {
     "name": "stdout",
     "output_type": "stream",
     "text": [
      "0\n",
      "10\n",
      "20\n",
      "30\n",
      "40\n",
      "50\n",
      "60\n",
      "70\n",
      "80\n",
      "90\n",
      "100\n",
      "110\n",
      "120\n",
      "130\n",
      "140\n",
      "150\n",
      "160\n",
      "170\n",
      "180\n",
      "190\n",
      "200\n",
      "210\n",
      "220\n",
      "230\n",
      "240\n",
      "250\n",
      "260\n",
      "270\n",
      "280\n",
      "290\n"
     ]
    }
   ],
   "source": [
    "df = processHist.concatRTO(df, zp)"
   ]
  },
  {
   "cell_type": "code",
   "execution_count": 8,
   "id": "10597ee7-a212-430b-9a7a-27e494d4ba1c",
   "metadata": {},
   "outputs": [],
   "source": [
    "df = processHist.unifyID(df)"
   ]
  },
  {
   "cell_type": "code",
   "execution_count": 5,
   "id": "2b247e8e-1cb7-440b-b0ea-e20e392c8f92",
   "metadata": {},
   "outputs": [],
   "source": [
    "df = df[df.bvdid.str[:2]=='GB']"
   ]
  },
  {
   "cell_type": "code",
   "execution_count": 6,
   "id": "761735ec-3b70-47ed-97c8-f48b31e10e8d",
   "metadata": {},
   "outputs": [],
   "source": [
    "df.to_csv(fin_hist_fd +  ctry + '/' + ctry + '_filter1_merge_cons_yr_panel_ind_link_zp_rst.csv', index=False)"
   ]
  },
  {
   "cell_type": "code",
   "execution_count": null,
   "id": "9f3e0fa7-7b16-47f5-a2d8-7f9f4355f074",
   "metadata": {},
   "outputs": [],
   "source": []
  },
  {
   "cell_type": "code",
   "execution_count": 2,
   "id": "c4ec7942-3efc-4b13-9fcd-74c54bb26c18",
   "metadata": {},
   "outputs": [
    {
     "name": "stderr",
     "output_type": "stream",
     "text": [
      "/nas/longleaf/rhel8/apps/anaconda/2021.11.ood/lib/python3.9/site-packages/IPython/core/interactiveshell.py:3444: DtypeWarning: Columns (1,8,36,105,107,109,113,115,117,119,129,135,139,140,141,142,143,144,154,155,156,157,158,160,161,162,163,164,166,167,168,169,170,173,174,175,176,177,180,181,182,183,185,186,187,188,189,191,192,193,194,195,197,198,199,200,201,203,204,205,206,207,209,210,211,212,213,215,216,217,218,219,222,223,224,225,226,227,228,229,230,231,233,235,237,243,246,247,248,249,253,255) have mixed types.Specify dtype option on import or set low_memory=False.\n",
      "  exec(code_obj, self.user_global_ns, self.user_ns)\n"
     ]
    }
   ],
   "source": [
    "df = pd.read_csv(fin_hist_fd +  ctry + '/' + ctry + '_filter1_merge_cons_yr_panel_ind_link_zp_rst.csv')"
   ]
  },
  {
   "cell_type": "code",
   "execution_count": 2,
   "id": "57757a7e-ba96-43c6-80f0-eb09d8b905a1",
   "metadata": {},
   "outputs": [
    {
     "name": "stderr",
     "output_type": "stream",
     "text": [
      "/tmp/ipykernel_3506550/3939866359.py:1: DtypeWarning: Columns (1,3,5,9,11,13,15,16,17,19,21,22,23,24,25,26,30,32) have mixed types.Specify dtype option on import or set low_memory=False.\n",
      "  processHist.updatePanelListedStatus(ctry=ctry)\n"
     ]
    },
    {
     "name": "stdout",
     "output_type": "stream",
     "text": [
      "finish reading header\n"
     ]
    },
    {
     "name": "stderr",
     "output_type": "stream",
     "text": [
      "/tmp/ipykernel_3506550/3939866359.py:1: DtypeWarning: Columns (8,105,107,109,113,115,117,119,129,135,139,140,141,142,143,144,154,155,156,157,158,160,161,162,163,164,166,167,168,169,170,173,174,175,176,177,180,181,182,183,185,186,187,188,189,191,192,193,194,195,197,198,199,200,201,203,204,205,206,207,209,210,211,212,213,215,216,217,218,219,222,223,224,225,226,227,228,229,230,231,233,235,237,243,246,247,248,249,253,255) have mixed types.Specify dtype option on import or set low_memory=False.\n",
      "  processHist.updatePanelListedStatus(ctry=ctry)\n"
     ]
    },
    {
     "name": "stdout",
     "output_type": "stream",
     "text": [
      "finish reading panel data\n",
      "finish merging with header\n",
      "finish casting types\n",
      "finish updating listed status\n",
      "finish saving data\n"
     ]
    }
   ],
   "source": [
    "processHist.updatePanelListedStatus(ctry=ctry)"
   ]
  },
  {
   "cell_type": "code",
   "execution_count": 7,
   "id": "d4aa48cb-168f-492f-955d-593a146ad480",
   "metadata": {},
   "outputs": [],
   "source": [
    "# processHist.labelPanel(ctry=ctry)"
   ]
  },
  {
   "cell_type": "code",
   "execution_count": null,
   "id": "afacac50-0cc2-4bda-9bea-6fd0621dc51b",
   "metadata": {},
   "outputs": [
    {
     "name": "stderr",
     "output_type": "stream",
     "text": [
      "/tmp/ipykernel_3892583/2422198231.py:1: DtypeWarning: Columns (8,105,107,109,112,114,124,130,134,135,136,137,138,145,146,147,148,149,151,152,153,154,155,157,158,159,160,161,164,165,166,167,168,171,172,173,174,176,177,178,179,180,182,183,184,185,186,188,189,190,191,192,194,195,196,197,198,200,201,202,203,204,206,207,208,209,210,213,214,215,216,217,218,219,220,221,222,224,226,228,234,237,238,239,240,244,246,252,254,256,257,258) have mixed types.Specify dtype option on import or set low_memory=False.\n",
      "  processHist.filterPanel(ctry=ctry)\n"
     ]
    }
   ],
   "source": [
    "processHist.filterPanel(ctry=ctry)"
   ]
  },
  {
   "cell_type": "code",
   "execution_count": 2,
   "id": "4050f745-1ae4-4cb0-abdc-19dcda1ac9c4",
   "metadata": {},
   "outputs": [
    {
     "name": "stderr",
     "output_type": "stream",
     "text": [
      "/nas/longleaf/rhel8/apps/anaconda/2021.11.ood/lib/python3.9/site-packages/IPython/core/interactiveshell.py:3444: DtypeWarning: Columns (8,105,107,109,112,114,124,130,134,135,136,137,138,145,146,147,148,149,151,152,153,154,155,157,158,159,160,161,164,165,166,167,168,171,172,173,174,176,177,178,179,180,182,183,184,185,186,188,189,190,191,192,194,195,196,197,198,200,201,202,203,204,206,207,208,209,210,213,214,215,216,217,218,219,220,221,222,224,226,228,234,237,238,239,240,244,246,252,254,256,257,258) have mixed types.Specify dtype option on import or set low_memory=False.\n",
      "  exec(code_obj, self.user_global_ns, self.user_ns)\n"
     ]
    }
   ],
   "source": [
    "df = pd.read_csv(fin_hist_fd +  ctry + '/' + ctry + '_filter1_merge_cons_yr_panel_ind_link_zp_rst_listed.csv')\n",
    "\n",
    "# independent flag\n",
    "temp_idx = (df['up_bvdid'].isna()) | (df['bvdid']==df['up_bvdid'])\n",
    "df.loc[temp_idx, 'idpt_flag'] = 1\n",
    "\n",
    "# adjust float variables based on the number of months in the financial report\n",
    "# fl_cols = ['turn', 'opre', 'cost', 'gros', 'oope', 'fire', 'fiex', 'fipl', 'taxa', 'plat', 'exre', 'exex', 'extr', 'expt', 'mate', 'staf', 'depr', 'inte', 'rd', 'cf', 'av', 'ebta', 'pl', 'oppl', 'plbt']\n",
    "fl_cols = ['opre']\n",
    "temp_idx = df['nr_months']!=12\n",
    "df.loc[temp_idx, fl_cols] = df.loc[temp_idx, fl_cols].mul(12 / df.loc[temp_idx, 'nr_months'], axis=0)"
   ]
  },
  {
   "cell_type": "code",
   "execution_count": 3,
   "id": "12dbcd33-c2b0-4a54-be53-01762fac5eeb",
   "metadata": {},
   "outputs": [],
   "source": [
    "df.loc[:, 'opre_flag'] = np.nan\n",
    "opre_idx = ((df.turn/df.exchrate) >= 6500000) | ((df.opre/df.exchrate) >= 6500000)\n",
    "toas_idx = (((df.cuas/df.exchrate) + (df.fias/df.exchrate)) >= 3260000)\n",
    "opre_set = set(df[((df.opre.notna()) | (df.turn.notna())) & (opre_idx | toas_idx)].bvdid_r3.dropna().unique())\n",
    "df.loc[df.bvdid_r3.isin(opre_set), 'opre_flag'] = 1"
   ]
  },
  {
   "cell_type": "code",
   "execution_count": 4,
   "id": "07ba2407-deca-4f44-9842-a8f3a9182b3e",
   "metadata": {},
   "outputs": [],
   "source": [
    "# get the set of firms that were idpt or up for at least one year\n",
    "idpt_set = set(df[df['idpt_flag'] == 1].bvdid_r3.dropna().unique())\n",
    "\n",
    "# get the set of firms that were industrial for at least one year\n",
    "c_set = set(df[df['ent_final'] == 'C'].bvdid_r3.dropna().unique())"
   ]
  },
  {
   "cell_type": "code",
   "execution_count": 5,
   "id": "52752c86-aa03-4894-9d6c-a0a13ba527db",
   "metadata": {},
   "outputs": [],
   "source": [
    "# filter the panel data\n",
    "df = df[df.bvdid_r3.isin(idpt_set & opre_set & c_set)]"
   ]
  },
  {
   "cell_type": "code",
   "execution_count": 6,
   "id": "3bc62274-bbbb-4148-b9d2-858d0b37c601",
   "metadata": {},
   "outputs": [],
   "source": [
    "fl_cols = ['turn', 'cost', 'gros', 'oope', 'fire', 'fiex', 'fipl', 'taxa', 'plat', 'exre', 'exex', 'extr', 'expt', 'mate', 'staf', 'depr', 'inte', 'rd', 'cf', 'av', 'ebta', 'pl', 'oppl', 'plbt']\n",
    "temp_idx = df['nr_months']!=12\n",
    "df.loc[temp_idx, fl_cols] = df.loc[temp_idx, fl_cols].mul(12 / df.loc[temp_idx, 'nr_months'], axis=0)"
   ]
  },
  {
   "cell_type": "code",
   "execution_count": 7,
   "id": "556b1fcd-6df3-449e-858f-34a938945273",
   "metadata": {},
   "outputs": [],
   "source": [
    "# sort to make sure the data is sorted by bvdid_r3 and closdate_year\n",
    "df.sort_values(['bvdid_r3', 'closdate_year'], inplace=True)"
   ]
  },
  {
   "cell_type": "code",
   "execution_count": 8,
   "id": "9079e374-7566-4ca1-81f0-b82f4d1524c3",
   "metadata": {},
   "outputs": [],
   "source": [
    "df.to_csv(fin_hist_fd +  ctry + '/' + ctry + '_filter1_merge_cons_yr_panel_ind_link_zp_rst_listed_label_filter.csv', index=False)"
   ]
  },
  {
   "cell_type": "code",
   "execution_count": null,
   "id": "776c35d7-937e-4d9f-bdb5-baca65014e12",
   "metadata": {},
   "outputs": [],
   "source": []
  },
  {
   "cell_type": "code",
   "execution_count": 2,
   "id": "ed4fbc83-d29b-4f93-9549-6920a333b50f",
   "metadata": {},
   "outputs": [
    {
     "name": "stderr",
     "output_type": "stream",
     "text": [
      "/tmp/ipykernel_221398/3046384215.py:1: DtypeWarning: Columns (8,105,107,112,114,124,134,135,136,137,138,145,146,147,148,149,151,152,153,154,155,157,158,159,160,161,164,165,166,167,168,171,172,173,174,176,177,178,179,180,182,183,184,185,186,188,189,190,191,192,194,195,196,197,198,200,201,202,203,204,206,207,208,209,210,213,214,215,216,217,218,219,220,221,222,224,226,228,234,237,238,239,240,244,246,252,254,256,257,258) have mixed types.Specify dtype option on import or set low_memory=False.\n",
      "  processHist.nextState(ctry=ctry)\n",
      "/tmp/ipykernel_221398/3046384215.py:1: DtypeWarning: Columns (13) have mixed types.Specify dtype option on import or set low_memory=False.\n",
      "  processHist.nextState(ctry=ctry)\n",
      "/nas/longleaf/home/yiluy/projects/BvDAnalysis/processHist.py:2703: SettingWithCopyWarning: \n",
      "A value is trying to be set on a copy of a slice from a DataFrame.\n",
      "Try using .loc[row_indexer,col_indexer] = value instead\n",
      "\n",
      "See the caveats in the documentation: https://pandas.pydata.org/pandas-docs/stable/user_guide/indexing.html#returning-a-view-versus-a-copy\n",
      "  sdc_pe_mg['ticker_count'] = sdc_pe_mg.groupby('sd_ticker')['Fund\\nYear'].transform('count')\n",
      "/nas/longleaf/home/yiluy/projects/BvDAnalysis/processZephyr.py:213: SettingWithCopyWarning: \n",
      "A value is trying to be set on a copy of a slice from a DataFrame.\n",
      "Try using .loc[row_indexer,col_indexer] = value instead\n",
      "\n",
      "See the caveats in the documentation: https://pandas.pydata.org/pandas-docs/stable/user_guide/indexing.html#returning-a-view-versus-a-copy\n",
      "  temp['final_stake'] = temp['final_stake_3']\n",
      "/nas/longleaf/rhel8/apps/anaconda/2021.11.ood/lib/python3.9/site-packages/pandas/core/frame.py:4906: SettingWithCopyWarning: \n",
      "A value is trying to be set on a copy of a slice from a DataFrame\n",
      "\n",
      "See the caveats in the documentation: https://pandas.pydata.org/pandas-docs/stable/user_guide/indexing.html#returning-a-view-versus-a-copy\n",
      "  return super().drop(\n",
      "/nas/longleaf/home/yiluy/projects/BvDAnalysis/processHist.py:2775: SettingWithCopyWarning: \n",
      "A value is trying to be set on a copy of a slice from a DataFrame.\n",
      "Try using .loc[row_indexer,col_indexer] = value instead\n",
      "\n",
      "See the caveats in the documentation: https://pandas.pydata.org/pandas-docs/stable/user_guide/indexing.html#returning-a-view-versus-a-copy\n",
      "  pe_deals['Completed date'] = pd.to_datetime(pe_deals['Completed date'])\n",
      "/nas/longleaf/home/yiluy/projects/BvDAnalysis/processHist.py:2776: SettingWithCopyWarning: \n",
      "A value is trying to be set on a copy of a slice from a DataFrame.\n",
      "Try using .loc[row_indexer,col_indexer] = value instead\n",
      "\n",
      "See the caveats in the documentation: https://pandas.pydata.org/pandas-docs/stable/user_guide/indexing.html#returning-a-view-versus-a-copy\n",
      "  pe_deals['year'] = pe_deals['Completed date'].dt.year\n"
     ]
    }
   ],
   "source": [
    "processHist.nextState(ctry=ctry)"
   ]
  },
  {
   "cell_type": "markdown",
   "id": "3c279c91-ff85-4ff3-af4d-622baaa2d51e",
   "metadata": {},
   "source": [
    "# Read historical descriptives - trade description, overviews, bankers, other advisors"
   ]
  },
  {
   "cell_type": "code",
   "execution_count": null,
   "id": "7d7fc5c6-0cf7-4b6e-aedb-0edcf3089d75",
   "metadata": {},
   "outputs": [],
   "source": [
    "# processHist.readHistDesc(ctry)"
   ]
  },
  {
   "cell_type": "code",
   "execution_count": null,
   "id": "d511d202-f7ce-4bd8-87f8-9e8c05b3a610",
   "metadata": {},
   "outputs": [],
   "source": [
    "# df_trdes, df_ov, df_bk, df_adv = processHist.getHistDesc(ctry)"
   ]
  },
  {
   "cell_type": "code",
   "execution_count": null,
   "id": "9e4d767e-e1ec-45fb-9bbe-23c10acc8254",
   "metadata": {},
   "outputs": [],
   "source": []
  }
 ],
 "metadata": {
  "kernelspec": {
   "display_name": "Python 3 (ipykernel)",
   "language": "python",
   "name": "python3"
  },
  "language_info": {
   "codemirror_mode": {
    "name": "ipython",
    "version": 3
   },
   "file_extension": ".py",
   "mimetype": "text/x-python",
   "name": "python",
   "nbconvert_exporter": "python",
   "pygments_lexer": "ipython3",
   "version": "3.9.7"
  },
  "vscode": {
   "interpreter": {
    "hash": "49cb93f377a7abe7414b7b0f21fb3017538004a126cf690fb524202736b7fb92"
   }
  }
 },
 "nbformat": 4,
 "nbformat_minor": 5
}
